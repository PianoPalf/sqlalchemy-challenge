{
 "cells": [
  {
   "cell_type": "code",
   "execution_count": 22,
   "metadata": {},
   "outputs": [],
   "source": [
    "%matplotlib inline\n",
    "from matplotlib import style\n",
    "style.use('fivethirtyeight')\n",
    "import matplotlib.pyplot as plt"
   ]
  },
  {
   "cell_type": "code",
   "execution_count": 23,
   "metadata": {},
   "outputs": [],
   "source": [
    "import numpy as np\n",
    "import pandas as pd\n",
    "import datetime as dt"
   ]
  },
  {
   "cell_type": "markdown",
   "metadata": {},
   "source": [
    "# Reflect Tables into SQLAlchemy ORM"
   ]
  },
  {
   "cell_type": "code",
   "execution_count": 24,
   "metadata": {},
   "outputs": [],
   "source": [
    "# Python SQL toolkit and Object Relational Mapper\n",
    "import sqlalchemy\n",
    "from sqlalchemy.ext.automap import automap_base\n",
    "from sqlalchemy.orm import Session\n",
    "from sqlalchemy import create_engine, func, text"
   ]
  },
  {
   "cell_type": "code",
   "execution_count": 25,
   "metadata": {},
   "outputs": [],
   "source": [
    "# create engine to hawaii.sqlite\n",
    "engine = create_engine(\"sqlite:///Resources/hawaii.sqlite\")\n",
    "conn = engine.connect()"
   ]
  },
  {
   "cell_type": "code",
   "execution_count": 27,
   "metadata": {},
   "outputs": [],
   "source": [
    "# reflect an existing database into a new model\n",
    "Base = automap_base()\n",
    "\n",
    "\n",
    "# reflect the tables\n",
    "Base.prepare(engine, reflect=True)"
   ]
  },
  {
   "cell_type": "code",
   "execution_count": 28,
   "metadata": {},
   "outputs": [
    {
     "data": {
      "text/plain": [
       "['measurement', 'station']"
      ]
     },
     "execution_count": 28,
     "metadata": {},
     "output_type": "execute_result"
    }
   ],
   "source": [
    "# View all of the classes that automap found\n",
    "Base.classes.keys()"
   ]
  },
  {
   "cell_type": "code",
   "execution_count": 29,
   "metadata": {},
   "outputs": [],
   "source": [
    "# Save references to each table\n",
    "Measurements = Base.classes.measurement\n",
    "Stations = Base.classes.station"
   ]
  },
  {
   "cell_type": "code",
   "execution_count": 30,
   "metadata": {},
   "outputs": [],
   "source": [
    "# Create our session (link) from Python to the DB\n",
    "session = Session(engine)"
   ]
  },
  {
   "cell_type": "code",
   "execution_count": 31,
   "metadata": {},
   "outputs": [
    {
     "data": {
      "text/html": [
       "<div>\n",
       "<style scoped>\n",
       "    .dataframe tbody tr th:only-of-type {\n",
       "        vertical-align: middle;\n",
       "    }\n",
       "\n",
       "    .dataframe tbody tr th {\n",
       "        vertical-align: top;\n",
       "    }\n",
       "\n",
       "    .dataframe thead th {\n",
       "        text-align: right;\n",
       "    }\n",
       "</style>\n",
       "<table border=\"1\" class=\"dataframe\">\n",
       "  <thead>\n",
       "    <tr style=\"text-align: right;\">\n",
       "      <th></th>\n",
       "      <th>station</th>\n",
       "      <th>name</th>\n",
       "      <th>latitude</th>\n",
       "      <th>longitude</th>\n",
       "      <th>elevation</th>\n",
       "    </tr>\n",
       "    <tr>\n",
       "      <th>id</th>\n",
       "      <th></th>\n",
       "      <th></th>\n",
       "      <th></th>\n",
       "      <th></th>\n",
       "      <th></th>\n",
       "    </tr>\n",
       "  </thead>\n",
       "  <tbody>\n",
       "    <tr>\n",
       "      <th>0</th>\n",
       "      <td>USC00519397</td>\n",
       "      <td>WAIKIKI 717.2, HI US</td>\n",
       "      <td>21.27160</td>\n",
       "      <td>-157.81680</td>\n",
       "      <td>0.914</td>\n",
       "    </tr>\n",
       "    <tr>\n",
       "      <th>1</th>\n",
       "      <td>USC00513117</td>\n",
       "      <td>KANEOHE 838.1, HI US</td>\n",
       "      <td>21.42340</td>\n",
       "      <td>-157.80150</td>\n",
       "      <td>4.450</td>\n",
       "    </tr>\n",
       "    <tr>\n",
       "      <th>2</th>\n",
       "      <td>USC00514830</td>\n",
       "      <td>KUALOA RANCH HEADQUARTERS 886.9, HI US</td>\n",
       "      <td>21.52130</td>\n",
       "      <td>-157.83740</td>\n",
       "      <td>2.133</td>\n",
       "    </tr>\n",
       "    <tr>\n",
       "      <th>3</th>\n",
       "      <td>USC00517948</td>\n",
       "      <td>PEARL CITY, HI US</td>\n",
       "      <td>21.39340</td>\n",
       "      <td>-157.97510</td>\n",
       "      <td>3.627</td>\n",
       "    </tr>\n",
       "    <tr>\n",
       "      <th>4</th>\n",
       "      <td>USC00518838</td>\n",
       "      <td>UPPER WAHIAWA 874.3, HI US</td>\n",
       "      <td>21.49920</td>\n",
       "      <td>-158.01110</td>\n",
       "      <td>93.447</td>\n",
       "    </tr>\n",
       "    <tr>\n",
       "      <th>5</th>\n",
       "      <td>USC00519523</td>\n",
       "      <td>WAIMANALO EXPERIMENTAL FARM, HI US</td>\n",
       "      <td>21.33556</td>\n",
       "      <td>-157.71139</td>\n",
       "      <td>5.943</td>\n",
       "    </tr>\n",
       "    <tr>\n",
       "      <th>6</th>\n",
       "      <td>USC00519281</td>\n",
       "      <td>WAIHEE 837.5, HI US</td>\n",
       "      <td>21.45167</td>\n",
       "      <td>-157.84889</td>\n",
       "      <td>10.027</td>\n",
       "    </tr>\n",
       "    <tr>\n",
       "      <th>7</th>\n",
       "      <td>USC00511918</td>\n",
       "      <td>HONOLULU OBSERVATORY 702.2, HI US</td>\n",
       "      <td>21.31520</td>\n",
       "      <td>-157.99920</td>\n",
       "      <td>0.274</td>\n",
       "    </tr>\n",
       "    <tr>\n",
       "      <th>8</th>\n",
       "      <td>USC00516128</td>\n",
       "      <td>MANOA LYON ARBO 785.2, HI US</td>\n",
       "      <td>21.33310</td>\n",
       "      <td>-157.80250</td>\n",
       "      <td>46.449</td>\n",
       "    </tr>\n",
       "  </tbody>\n",
       "</table>\n",
       "</div>"
      ],
      "text/plain": [
       "        station                                    name  latitude  longitude  \\\n",
       "id                                                                             \n",
       "0   USC00519397                    WAIKIKI 717.2, HI US  21.27160 -157.81680   \n",
       "1   USC00513117                    KANEOHE 838.1, HI US  21.42340 -157.80150   \n",
       "2   USC00514830  KUALOA RANCH HEADQUARTERS 886.9, HI US  21.52130 -157.83740   \n",
       "3   USC00517948                       PEARL CITY, HI US  21.39340 -157.97510   \n",
       "4   USC00518838              UPPER WAHIAWA 874.3, HI US  21.49920 -158.01110   \n",
       "5   USC00519523      WAIMANALO EXPERIMENTAL FARM, HI US  21.33556 -157.71139   \n",
       "6   USC00519281                     WAIHEE 837.5, HI US  21.45167 -157.84889   \n",
       "7   USC00511918       HONOLULU OBSERVATORY 702.2, HI US  21.31520 -157.99920   \n",
       "8   USC00516128            MANOA LYON ARBO 785.2, HI US  21.33310 -157.80250   \n",
       "\n",
       "    elevation  \n",
       "id             \n",
       "0       0.914  \n",
       "1       4.450  \n",
       "2       2.133  \n",
       "3       3.627  \n",
       "4      93.447  \n",
       "5       5.943  \n",
       "6      10.027  \n",
       "7       0.274  \n",
       "8      46.449  "
      ]
     },
     "execution_count": 31,
     "metadata": {},
     "output_type": "execute_result"
    }
   ],
   "source": [
    "# Note: to read in entire Tables as Dataframes:\n",
    "measurement_df = pd.read_sql('SELECT * FROM measurement', conn)\n",
    "\n",
    "# Note: can also set index when defining Dataframe\n",
    "station_df = pd.read_sql('SELECT * FROM station', conn).set_index('id')\n",
    "station_df"
   ]
  },
  {
   "cell_type": "markdown",
   "metadata": {},
   "source": [
    "# Exploratory Precipitation Analysis"
   ]
  },
  {
   "cell_type": "code",
   "execution_count": 52,
   "metadata": {},
   "outputs": [
    {
     "name": "stdout",
     "output_type": "stream",
     "text": [
      "('2017-08-23',)\n",
      "2017-08-23\n"
     ]
    }
   ],
   "source": [
    "# Find the most recent date in the data set.\n",
    "most_recent = session.query(Measurements.date).order_by(Measurements.date.desc()).first()\n",
    "print(most_recent)\n",
    "\n",
    "# or\n",
    "\n",
    "print(most_recent.date)"
   ]
  },
  {
   "cell_type": "code",
   "execution_count": 34,
   "metadata": {},
   "outputs": [
    {
     "data": {
      "image/png": "[encoded data removed]",
      "text/plain": [
       "<Figure size 640x480 with 1 Axes>"
      ]
     },
     "metadata": {},
     "output_type": "display_data"
    }
   ],
   "source": [
    "# Design a query to retrieve the last 12 months of precipitation data and plot the results. \n",
    "\n",
    "# Starting from the most recent data point in the database. \n",
    "latest_date = most_recent.date\n",
    "\n",
    "# Split date into year, month and day variables\n",
    "y, m, d = latest_date.split('-')\n",
    "# Convert variables to integer type\n",
    "y, m, d = int(y), int(m), int(d)\n",
    "\n",
    "# Calculate the date one year from the last date in data set.\n",
    "one_year_ago = dt.date(y, m, d) - dt.timedelta(days=365)\n",
    "\n",
    "# Perform a query to retrieve the date and precipitation scores\n",
    "rain_query = session.query(Measurements.date, Measurements.prcp).\\\n",
    "                     filter(Measurements.date >= one_year_ago).\\\n",
    "                     filter(Measurements.date <= latest_date).all()\n",
    "\n",
    "# Or:\n",
    "\n",
    "query = text(f\"SELECT measurement.date, measurement.prcp FROM measurement \\\n",
    "             WHERE date BETWEEN '{one_year_ago}' AND '{latest_date}';\")\n",
    "data = engine.execute(query)\n",
    "\n",
    "# Save the query results as a Pandas DataFrame. Explicitly set the column names\n",
    "recent_rain_df = pd.DataFrame(rain_query, columns=['Date', 'Precipitation'])\n",
    "\n",
    "# Sort the dataframe by date and drop NaNs\n",
    "recent_rain_clean_df = recent_rain_df.sort_values(['Date']).dropna()\n",
    "\n",
    "# Set index to Date for Pandas.plot (please see code cell below)\n",
    "recent_rain_date_index_df = recent_rain_clean_df.set_index(['Date'])\n",
    "\n",
    "# Drop Date index for Matplotlib plot\n",
    "recent_rain_final_df = recent_rain_date_index_df.reset_index()\n",
    "\n",
    "# Use Pandas Plotting with Matplotlib to plot the data\n",
    "# Define x- and y-axes\n",
    "x = recent_rain_final_df['Date']\n",
    "y = recent_rain_final_df['Precipitation']\n",
    "\n",
    "# Plot line graph\n",
    "plt.plot(x, y, label=\"Precipitation\")\n",
    "\n",
    "# Set x-ticks on x-axis (show every 450th Date as tick, rotate label by 90 degrees)\n",
    "plt.xticks(x[::450],  rotation=90)\n",
    "\n",
    "# Set title and axis labels\n",
    "plt.title('Honolulu Rainfall')\n",
    "plt.xlabel('Date')\n",
    "plt.ylabel('Rainfall (mm)')\n",
    "plt.legend(loc='upper center')\n",
    "\n",
    "# Show plot\n",
    "plt.show()\n"
   ]
  },
  {
   "cell_type": "code",
   "execution_count": 35,
   "metadata": {},
   "outputs": [
    {
     "data": {
      "text/plain": [
       "Text(0.5, 0, 'Date')"
      ]
     },
     "execution_count": 35,
     "metadata": {},
     "output_type": "execute_result"
    },
    {
     "data": {
      "image/png": "[encoded data removed]",
      "text/plain": [
       "<Figure size 640x480 with 1 Axes>"
      ]
     },
     "metadata": {},
     "output_type": "display_data"
    }
   ],
   "source": [
    "# Use Pandas.plot to plot the data\n",
    "recent_rain_plot = recent_rain_date_index_df.plot.line(rot=90)\n",
    "recent_rain_plot.set_ylabel(\"mm\")\n",
    "recent_rain_plot.set_xlabel(\"Date\")"
   ]
  },
  {
   "cell_type": "code",
   "execution_count": 36,
   "metadata": {},
   "outputs": [
    {
     "data": {
      "text/html": [
       "<div>\n",
       "<style scoped>\n",
       "    .dataframe tbody tr th:only-of-type {\n",
       "        vertical-align: middle;\n",
       "    }\n",
       "\n",
       "    .dataframe tbody tr th {\n",
       "        vertical-align: top;\n",
       "    }\n",
       "\n",
       "    .dataframe thead th {\n",
       "        text-align: right;\n",
       "    }\n",
       "</style>\n",
       "<table border=\"1\" class=\"dataframe\">\n",
       "  <thead>\n",
       "    <tr style=\"text-align: right;\">\n",
       "      <th></th>\n",
       "      <th>Precipitation</th>\n",
       "    </tr>\n",
       "  </thead>\n",
       "  <tbody>\n",
       "    <tr>\n",
       "      <th>count</th>\n",
       "      <td>2021.000000</td>\n",
       "    </tr>\n",
       "    <tr>\n",
       "      <th>mean</th>\n",
       "      <td>4.505888</td>\n",
       "    </tr>\n",
       "    <tr>\n",
       "      <th>std</th>\n",
       "      <td>11.713487</td>\n",
       "    </tr>\n",
       "    <tr>\n",
       "      <th>min</th>\n",
       "      <td>0.000000</td>\n",
       "    </tr>\n",
       "    <tr>\n",
       "      <th>25%</th>\n",
       "      <td>0.000000</td>\n",
       "    </tr>\n",
       "    <tr>\n",
       "      <th>50%</th>\n",
       "      <td>0.500000</td>\n",
       "    </tr>\n",
       "    <tr>\n",
       "      <th>75%</th>\n",
       "      <td>3.300000</td>\n",
       "    </tr>\n",
       "    <tr>\n",
       "      <th>max</th>\n",
       "      <td>170.200000</td>\n",
       "    </tr>\n",
       "  </tbody>\n",
       "</table>\n",
       "</div>"
      ],
      "text/plain": [
       "       Precipitation\n",
       "count    2021.000000\n",
       "mean        4.505888\n",
       "std        11.713487\n",
       "min         0.000000\n",
       "25%         0.000000\n",
       "50%         0.500000\n",
       "75%         3.300000\n",
       "max       170.200000"
      ]
     },
     "execution_count": 36,
     "metadata": {},
     "output_type": "execute_result"
    }
   ],
   "source": [
    "# Use Pandas to calculate the summary statistics for the precipitation data\n",
    "recent_rain_final_df.describe()"
   ]
  },
  {
   "cell_type": "markdown",
   "metadata": {},
   "source": [
    "# Exploratory Station Analysis"
   ]
  },
  {
   "cell_type": "code",
   "execution_count": 37,
   "metadata": {},
   "outputs": [
    {
     "data": {
      "text/plain": [
       "9"
      ]
     },
     "execution_count": 37,
     "metadata": {},
     "output_type": "execute_result"
    }
   ],
   "source": [
    "# Design a query to calculate the total number of stations in the dataset\n",
    "number_stations_query = session.query(Stations.station).count()\n",
    "\n",
    "# Or:\n",
    "\n",
    "stations_df = pd.read_sql(f\"SELECT * FROM station;\", conn)\n",
    "len(stations_df['station'])\n",
    "\n",
    "number_stations_query"
   ]
  },
  {
   "cell_type": "code",
   "execution_count": 38,
   "metadata": {},
   "outputs": [
    {
     "data": {
      "text/plain": [
       "[('USC00519281', 2772),\n",
       " ('USC00519397', 2724),\n",
       " ('USC00513117', 2709),\n",
       " ('USC00519523', 2669),\n",
       " ('USC00516128', 2612),\n",
       " ('USC00514830', 2202),\n",
       " ('USC00511918', 1979),\n",
       " ('USC00517948', 1372),\n",
       " ('USC00518838', 511)]"
      ]
     },
     "execution_count": 38,
     "metadata": {},
     "output_type": "execute_result"
    }
   ],
   "source": [
    "# Design a query to find the most active stations (i.e. which stations have the most rows?)\n",
    "# List the stations and their counts in descending order.\n",
    "most_active_stations = session.query(Measurements.station, func.count(Measurements.station)).\\\n",
    "                                group_by(Measurements.station).\\\n",
    "                                order_by(func.count(Measurements.station).desc()).all()\n",
    "\n",
    "\n",
    "\n",
    "# Note: could also do it this way:\n",
    "\n",
    "most_active_stations_other = text(f'SELECT station, COUNT(station)\\\n",
    "                                   FROM Measurement\\\n",
    "                                   GROUP BY station\\\n",
    "                                   ORDER BY COUNT(station) DESC;')\n",
    "\n",
    "active_station_data = engine.execute(most_active_stations_other)\n",
    "\n",
    "# Note: to print this remove '#' from below code:\n",
    "#for record in active_station_data:\n",
    "    #print(record)\n",
    "\n",
    "most_active_stations\n"
   ]
  },
  {
   "cell_type": "code",
   "execution_count": 39,
   "metadata": {},
   "outputs": [
    {
     "data": {
      "text/plain": [
       "'USC00519281'"
      ]
     },
     "execution_count": 39,
     "metadata": {},
     "output_type": "execute_result"
    }
   ],
   "source": [
    "# Create variable for most active station\n",
    "most_active_station = most_active_stations[0][0]\n",
    "\n",
    "most_active_station"
   ]
  },
  {
   "cell_type": "code",
   "execution_count": 40,
   "metadata": {},
   "outputs": [
    {
     "data": {
      "text/plain": [
       "'USC00519281'"
      ]
     },
     "execution_count": 40,
     "metadata": {},
     "output_type": "execute_result"
    }
   ],
   "source": [
    "# Can also create variable for most active station using the second method shown above:\n",
    "active_station_data = engine.execute(most_active_stations_other)\n",
    "most_active_station_other = active_station_data.first()[0]\n",
    "\n",
    "most_active_station_other"
   ]
  },
  {
   "cell_type": "code",
   "execution_count": 41,
   "metadata": {},
   "outputs": [
    {
     "data": {
      "text/plain": [
       "[(12.2, 29.4, 22.03582251082252)]"
      ]
     },
     "execution_count": 41,
     "metadata": {},
     "output_type": "execute_result"
    }
   ],
   "source": [
    "# Using the most active station id from the previous query, calculate the lowest, highest, and average temperature.\n",
    "temp_stats = [func.min(Measurements.tobs),\n",
    "              func.max(Measurements.tobs),\n",
    "              func.avg(Measurements.tobs)]\n",
    "\n",
    "station_stats = session.query(*temp_stats).\\\n",
    "                filter(Measurements.station == most_active_station).\\\n",
    "                order_by(Measurements.station).all()\n",
    "\n",
    "# Or:\n",
    "\n",
    "station_data = text(f'SELECT min(tobs), max(tobs), avg(tobs)\\\n",
    "                      FROM Measurement\\\n",
    "                        WHERE station = \"{most_active_station}\";')\n",
    "\n",
    "station_data_query = engine.execute(station_data)\n",
    "\n",
    "station_stats"
   ]
  },
  {
   "cell_type": "code",
   "execution_count": 42,
   "metadata": {},
   "outputs": [
    {
     "name": "stdout",
     "output_type": "stream",
     "text": [
      "2017-08-18\n",
      "2017-08-18\n"
     ]
    }
   ],
   "source": [
    "# Determine most recent entry date for most active station\n",
    "most_recent_date_station1 = session.query(Measurements.date).\\\n",
    "                            filter(Measurements.station == most_active_station).\\\n",
    "                            order_by(Measurements.date.desc()).first()\n",
    "\n",
    "# Or:\n",
    "\n",
    "station_temp_df = pd.read_sql(f\"SELECT date, tobs\\\n",
    "                                FROM measurement\\\n",
    "                                    WHERE station = '{most_active_station}';\", conn)\n",
    "\n",
    "most_recent_date_station2 = station_temp_df['date'].values[-1:]\n",
    "\n",
    "\n",
    "print(most_recent_date_station1[0])\n",
    "print(most_recent_date_station2[0])\n"
   ]
  },
  {
   "cell_type": "code",
   "execution_count": 43,
   "metadata": {},
   "outputs": [
    {
     "data": {
      "text/plain": [
       "<matplotlib.legend.Legend at 0x135242980>"
      ]
     },
     "execution_count": 43,
     "metadata": {},
     "output_type": "execute_result"
    },
    {
     "data": {
      "image/png": "[encoded data removed]",
      "text/plain": [
       "<Figure size 640x480 with 1 Axes>"
      ]
     },
     "metadata": {},
     "output_type": "display_data"
    }
   ],
   "source": [
    "# Using the most active station id\n",
    "# Query the last 12 months of temperature observation data for this station and plot the results as a histogram\n",
    "\n",
    "# Most recent data point for station \n",
    "latest_date = most_recent_date_station1[0]\n",
    "\n",
    "# Split date into year, month and day variables\n",
    "y, m, d = latest_date.split('-')\n",
    "# Convert variables to integer type\n",
    "y, m, d = int(y), int(m), int(d)\n",
    "\n",
    "# Calculate the date one year from the last date in data set.\n",
    "one_year_ago = dt.date(y, m, d) - dt.timedelta(days=365)\n",
    "\n",
    "# Get temperatures for most active station over the last 12 months\n",
    "station_temps = session.query(Measurements.tobs).\\\n",
    "                        filter(Measurements.station == most_active_station).\\\n",
    "                        filter(Measurements.date >= one_year_ago).\\\n",
    "                        filter(Measurements.date <= latest_date).\\\n",
    "                        order_by(Measurements.date.desc()).all()\n",
    "\n",
    "# Or:\n",
    "\n",
    "station_temp_df = pd.read_sql(f\"SELECT tobs\\\n",
    "                                FROM measurement\\\n",
    "                                    WHERE station = '{most_active_station}'\\\n",
    "                                    AND date BETWEEN '{one_year_ago}' AND '{latest_date}';\", conn)\n",
    "\n",
    "# Plot Histogram with correct binning\n",
    "plt.hist(station_temp_df, label='tobs', bins=12)\n",
    "\n",
    "# Set title and axis labels\n",
    "plt.title('Station Temp Counts')\n",
    "plt.xlabel('Temperature (°C)')\n",
    "plt.ylabel('Frequency')\n",
    "plt.legend(loc='upper left')"
   ]
  },
  {
   "cell_type": "code",
   "execution_count": 51,
   "metadata": {},
   "outputs": [
    {
     "data": {
      "text/plain": [
       "[{'USC00511918': ('Name: HONOLULU OBSERVATORY 702.2, HI US',\n",
       "   'Latitude: 21.3152',\n",
       "   'Longitude: -157.9992',\n",
       "   'Elevation: 0.274')},\n",
       " {'USC00513117': ('Name: KANEOHE 838.1, HI US',\n",
       "   'Latitude: 21.4234',\n",
       "   'Longitude: -157.8015',\n",
       "   'Elevation: 4.45')},\n",
       " {'USC00514830': ('Name: KUALOA RANCH HEADQUARTERS 886.9, HI US',\n",
       "   'Latitude: 21.5213',\n",
       "   'Longitude: -157.8374',\n",
       "   'Elevation: 2.133')},\n",
       " {'USC00516128': ('Name: MANOA LYON ARBO 785.2, HI US',\n",
       "   'Latitude: 21.3331',\n",
       "   'Longitude: -157.8025',\n",
       "   'Elevation: 46.449')},\n",
       " {'USC00517948': ('Name: PEARL CITY, HI US',\n",
       "   'Latitude: 21.3934',\n",
       "   'Longitude: -157.9751',\n",
       "   'Elevation: 3.627')},\n",
       " {'USC00518838': ('Name: UPPER WAHIAWA 874.3, HI US',\n",
       "   'Latitude: 21.4992',\n",
       "   'Longitude: -158.0111',\n",
       "   'Elevation: 93.447')},\n",
       " {'USC00519281': ('Name: WAIHEE 837.5, HI US',\n",
       "   'Latitude: 21.45167',\n",
       "   'Longitude: -157.84889',\n",
       "   'Elevation: 10.027')},\n",
       " {'USC00519397': ('Name: WAIKIKI 717.2, HI US',\n",
       "   'Latitude: 21.2716',\n",
       "   'Longitude: -157.8168',\n",
       "   'Elevation: 0.914')},\n",
       " {'USC00519523': ('Name: WAIMANALO EXPERIMENTAL FARM, HI US',\n",
       "   'Latitude: 21.33556',\n",
       "   'Longitude: -157.71139',\n",
       "   'Elevation: 5.943')}]"
      ]
     },
     "execution_count": 51,
     "metadata": {},
     "output_type": "execute_result"
    }
   ],
   "source": [
    "# EXTRA: Query all stations \n",
    "station_query = session.query(Stations.station, Stations.name, \n",
    "                              Stations.latitude, Stations.longitude, \n",
    "                              Stations.elevation).\\\n",
    "                              group_by(Stations.station).all()\n",
    "\n",
    "# Store query results in List of Dictionaries (eg. JSON-like format)\n",
    "station_list = []\n",
    "for station, name, lat, lon, ele in station_query:\n",
    "    temp_dictionary = {}\n",
    "    temp_dictionary[station] = (f'Name: {name}'), (f'Latitude: {lat}'),\\\n",
    "                               (f'Longitude: {lon}'), (f'Elevation: {ele}')\n",
    "    station_list.append(temp_dictionary)\n",
    "station_list"
   ]
  },
  {
   "cell_type": "markdown",
   "metadata": {},
   "source": [
    "# Close Session"
   ]
  },
  {
   "cell_type": "code",
   "execution_count": 21,
   "metadata": {},
   "outputs": [],
   "source": [
    "# Close Session\n",
    "session.close()"
   ]
  }
 ],
 "metadata": {
  "anaconda-cloud": {},
  "kernel_info": {
   "name": "python3"
  },
  "kernelspec": {
   "display_name": "Python 3 (ipykernel)",
   "language": "python",
   "name": "python3"
  },
  "language_info": {
   "codemirror_mode": {
    "name": "ipython",
    "version": 3
   },
   "file_extension": ".py",
   "mimetype": "text/x-python",
   "name": "python",
   "nbconvert_exporter": "python",
   "pygments_lexer": "ipython3",
   "version": "3.10.12"
  },
  "nteract": {
   "version": "0.12.3"
  },
  "varInspector": {
   "cols": {
    "lenName": 16,
    "lenType": 16,
    "lenVar": 40
   },
   "kernels_config": {
    "python": {
     "delete_cmd_postfix": "",
     "delete_cmd_prefix": "del ",
     "library": "var_list.py",
     "varRefreshCmd": "print(var_dic_list())"
    },
    "r": {
     "delete_cmd_postfix": ") ",
     "delete_cmd_prefix": "rm(",
     "library": "var_list.r",
     "varRefreshCmd": "cat(var_dic_list()) "
    }
   },
   "types_to_exclude": [
    "module",
    "function",
    "builtin_function_or_method",
    "instance",
    "_Feature"
   ],
   "window_display": false
  }
 },
 "nbformat": 4,
 "nbformat_minor": 2
}
